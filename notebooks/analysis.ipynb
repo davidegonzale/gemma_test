{
 "cells": [
  {
   "cell_type": "markdown",
   "id": "149f04bd",
   "metadata": {},
   "source": [
    "# Gemma Analytics Hiring Test – Surgeon Skill Ranking\n",
    "\n",
    "Author: David Gonzalez  \n",
    "Date: 11.07.2025\n",
    "\n",
    "This notebook analyzes the performance of surgeons conducting hip replacement operations based on EQ-5D-5L questionnaire results."
   ]
  },
  {
   "cell_type": "code",
   "execution_count": 1,
   "id": "6f4ca334",
   "metadata": {},
   "outputs": [],
   "source": [
    "from sqlalchemy import create_engine\n",
    "import pandas as pd\n",
    "\n",
    "# DB Credentials\n",
    "db_user = 'c50c162d93e1b19027aafe01f4915371e'\n",
    "db_pass = 'f1c1e1f88935a9c21b05e200cc938c0c'\n",
    "db_host = 'candidate-testing.cowkpei4bgel.eu-central-1.rds.amazonaws.com'\n",
    "db_port = '5432'\n",
    "db_name = 'hiring_test'\n",
    "\n",
    "# Create SQLAlchemy engine\n",
    "engine = create_engine(f\"postgresql+psycopg2://{db_user}:{db_pass}@{db_host}:{db_port}/{db_name}\")\n"
   ]
  },
  {
   "cell_type": "markdown",
   "id": "5ae610f7",
   "metadata": {},
   "source": [
    "### 1. Explore Available Tables\n",
    "\n",
    "Explore available tables inside DB to find out which ones might be relevant to us.\n",
    "\n",
    "High priority tables found:\n",
    "\n",
    " + patients\n",
    " + surgeons\n",
    " + answer_options\n",
    " + answers\n",
    " + questionnaires\n",
    " + questions\n",
    "\n",
    " Explore high priority tables to see their column names and how their data types look like. "
   ]
  },
  {
   "cell_type": "code",
   "execution_count": 2,
   "id": "0bd0c00c",
   "metadata": {},
   "outputs": [],
   "source": [
    "# Look for relevant tables within list of tables\n",
    "#tables_df = pd.read_sql(\"\"\"\n",
    "#    SELECT table_name\n",
    "#    FROM information_schema.tables\n",
    "#    ORDER BY table_name;\n",
    "#\"\"\", engine)\n",
    "\n",
    "#with pd.option_context('display.max_rows', None):\n",
    "#    display(tables_df)"
   ]
  },
  {
   "cell_type": "code",
   "execution_count": 3,
   "id": "347587a9",
   "metadata": {},
   "outputs": [
    {
     "data": {
      "text/html": [
       "<div>\n",
       "<style scoped>\n",
       "    .dataframe tbody tr th:only-of-type {\n",
       "        vertical-align: middle;\n",
       "    }\n",
       "\n",
       "    .dataframe tbody tr th {\n",
       "        vertical-align: top;\n",
       "    }\n",
       "\n",
       "    .dataframe thead th {\n",
       "        text-align: right;\n",
       "    }\n",
       "</style>\n",
       "<table border=\"1\" class=\"dataframe\">\n",
       "  <thead>\n",
       "    <tr style=\"text-align: right;\">\n",
       "      <th></th>\n",
       "      <th>id</th>\n",
       "      <th>question_id</th>\n",
       "      <th>patient_id</th>\n",
       "      <th>questionnaire_id</th>\n",
       "      <th>answer</th>\n",
       "    </tr>\n",
       "  </thead>\n",
       "  <tbody>\n",
       "    <tr>\n",
       "      <th>0</th>\n",
       "      <td>1</td>\n",
       "      <td>1</td>\n",
       "      <td>1</td>\n",
       "      <td>1</td>\n",
       "      <td>I have no problems in walking around</td>\n",
       "    </tr>\n",
       "  </tbody>\n",
       "</table>\n",
       "</div>"
      ],
      "text/plain": [
       "   id  question_id  patient_id  questionnaire_id  \\\n",
       "0   1            1           1                 1   \n",
       "\n",
       "                                 answer  \n",
       "0  I have no problems in walking around  "
      ]
     },
     "execution_count": 3,
     "metadata": {},
     "output_type": "execute_result"
    }
   ],
   "source": [
    "# Preview tables\n",
    "\n",
    "pd.read_sql(\"SELECT * FROM answers LIMIT 1;\", engine)"
   ]
  },
  {
   "cell_type": "code",
   "execution_count": 4,
   "id": "f665ce55",
   "metadata": {},
   "outputs": [
    {
     "data": {
      "text/html": [
       "<div>\n",
       "<style scoped>\n",
       "    .dataframe tbody tr th:only-of-type {\n",
       "        vertical-align: middle;\n",
       "    }\n",
       "\n",
       "    .dataframe tbody tr th {\n",
       "        vertical-align: top;\n",
       "    }\n",
       "\n",
       "    .dataframe thead th {\n",
       "        text-align: right;\n",
       "    }\n",
       "</style>\n",
       "<table border=\"1\" class=\"dataframe\">\n",
       "  <thead>\n",
       "    <tr style=\"text-align: right;\">\n",
       "      <th></th>\n",
       "      <th>question_id</th>\n",
       "      <th>answer</th>\n",
       "      <th>severity_code</th>\n",
       "      <th>central_estimate</th>\n",
       "    </tr>\n",
       "  </thead>\n",
       "  <tbody>\n",
       "    <tr>\n",
       "      <th>0</th>\n",
       "      <td>1</td>\n",
       "      <td>I have no problems in walking around</td>\n",
       "      <td>1</td>\n",
       "      <td>0.0</td>\n",
       "    </tr>\n",
       "  </tbody>\n",
       "</table>\n",
       "</div>"
      ],
      "text/plain": [
       "   question_id                                answer  severity_code  \\\n",
       "0            1  I have no problems in walking around              1   \n",
       "\n",
       "   central_estimate  \n",
       "0               0.0  "
      ]
     },
     "execution_count": 4,
     "metadata": {},
     "output_type": "execute_result"
    }
   ],
   "source": [
    "pd.read_sql(\"SELECT * FROM answer_options LIMIT 1;\", engine)"
   ]
  },
  {
   "cell_type": "code",
   "execution_count": 5,
   "id": "b0d5d921",
   "metadata": {},
   "outputs": [
    {
     "data": {
      "text/html": [
       "<div>\n",
       "<style scoped>\n",
       "    .dataframe tbody tr th:only-of-type {\n",
       "        vertical-align: middle;\n",
       "    }\n",
       "\n",
       "    .dataframe tbody tr th {\n",
       "        vertical-align: top;\n",
       "    }\n",
       "\n",
       "    .dataframe thead th {\n",
       "        text-align: right;\n",
       "    }\n",
       "</style>\n",
       "<table border=\"1\" class=\"dataframe\">\n",
       "  <thead>\n",
       "    <tr style=\"text-align: right;\">\n",
       "      <th></th>\n",
       "      <th>id</th>\n",
       "      <th>type</th>\n",
       "      <th>treatment</th>\n",
       "      <th>questions</th>\n",
       "    </tr>\n",
       "  </thead>\n",
       "  <tbody>\n",
       "    <tr>\n",
       "      <th>0</th>\n",
       "      <td>1</td>\n",
       "      <td>pre</td>\n",
       "      <td>Hip</td>\n",
       "      <td>[1, 2, 3, 4, 5]</td>\n",
       "    </tr>\n",
       "  </tbody>\n",
       "</table>\n",
       "</div>"
      ],
      "text/plain": [
       "   id type treatment        questions\n",
       "0   1  pre       Hip  [1, 2, 3, 4, 5]"
      ]
     },
     "execution_count": 5,
     "metadata": {},
     "output_type": "execute_result"
    }
   ],
   "source": [
    "pd.read_sql(\"SELECT * FROM questionnaires LIMIT 1;\", engine)"
   ]
  },
  {
   "cell_type": "code",
   "execution_count": 6,
   "id": "ecfb4863",
   "metadata": {},
   "outputs": [
    {
     "data": {
      "text/html": [
       "<div>\n",
       "<style scoped>\n",
       "    .dataframe tbody tr th:only-of-type {\n",
       "        vertical-align: middle;\n",
       "    }\n",
       "\n",
       "    .dataframe tbody tr th {\n",
       "        vertical-align: top;\n",
       "    }\n",
       "\n",
       "    .dataframe thead th {\n",
       "        text-align: right;\n",
       "    }\n",
       "</style>\n",
       "<table border=\"1\" class=\"dataframe\">\n",
       "  <thead>\n",
       "    <tr style=\"text-align: right;\">\n",
       "      <th></th>\n",
       "      <th>id</th>\n",
       "      <th>title</th>\n",
       "      <th>description</th>\n",
       "    </tr>\n",
       "  </thead>\n",
       "  <tbody>\n",
       "    <tr>\n",
       "      <th>0</th>\n",
       "      <td>1</td>\n",
       "      <td>Mobility</td>\n",
       "      <td>Please indicate what applies</td>\n",
       "    </tr>\n",
       "  </tbody>\n",
       "</table>\n",
       "</div>"
      ],
      "text/plain": [
       "   id     title                   description\n",
       "0   1  Mobility  Please indicate what applies"
      ]
     },
     "execution_count": 6,
     "metadata": {},
     "output_type": "execute_result"
    }
   ],
   "source": [
    "pd.read_sql(\"SELECT * FROM questions LIMIT 1;\", engine)"
   ]
  },
  {
   "cell_type": "code",
   "execution_count": 7,
   "id": "0d40fae2",
   "metadata": {},
   "outputs": [
    {
     "data": {
      "text/html": [
       "<div>\n",
       "<style scoped>\n",
       "    .dataframe tbody tr th:only-of-type {\n",
       "        vertical-align: middle;\n",
       "    }\n",
       "\n",
       "    .dataframe tbody tr th {\n",
       "        vertical-align: top;\n",
       "    }\n",
       "\n",
       "    .dataframe thead th {\n",
       "        text-align: right;\n",
       "    }\n",
       "</style>\n",
       "<table border=\"1\" class=\"dataframe\">\n",
       "  <thead>\n",
       "    <tr style=\"text-align: right;\">\n",
       "      <th></th>\n",
       "      <th>id</th>\n",
       "      <th>gender</th>\n",
       "      <th>surgeon_id</th>\n",
       "    </tr>\n",
       "  </thead>\n",
       "  <tbody>\n",
       "    <tr>\n",
       "      <th>0</th>\n",
       "      <td>1</td>\n",
       "      <td>Male</td>\n",
       "      <td>3</td>\n",
       "    </tr>\n",
       "  </tbody>\n",
       "</table>\n",
       "</div>"
      ],
      "text/plain": [
       "   id gender  surgeon_id\n",
       "0   1   Male           3"
      ]
     },
     "execution_count": 7,
     "metadata": {},
     "output_type": "execute_result"
    }
   ],
   "source": [
    "pd.read_sql(\"SELECT * FROM patients LIMIT 1;\", engine)"
   ]
  },
  {
   "cell_type": "code",
   "execution_count": 8,
   "id": "63740c34",
   "metadata": {},
   "outputs": [
    {
     "data": {
      "text/html": [
       "<div>\n",
       "<style scoped>\n",
       "    .dataframe tbody tr th:only-of-type {\n",
       "        vertical-align: middle;\n",
       "    }\n",
       "\n",
       "    .dataframe tbody tr th {\n",
       "        vertical-align: top;\n",
       "    }\n",
       "\n",
       "    .dataframe thead th {\n",
       "        text-align: right;\n",
       "    }\n",
       "</style>\n",
       "<table border=\"1\" class=\"dataframe\">\n",
       "  <thead>\n",
       "    <tr style=\"text-align: right;\">\n",
       "      <th></th>\n",
       "      <th>id</th>\n",
       "      <th>name</th>\n",
       "    </tr>\n",
       "  </thead>\n",
       "  <tbody>\n",
       "    <tr>\n",
       "      <th>0</th>\n",
       "      <td>1</td>\n",
       "      <td>Padme Amidala</td>\n",
       "    </tr>\n",
       "  </tbody>\n",
       "</table>\n",
       "</div>"
      ],
      "text/plain": [
       "   id           name\n",
       "0   1  Padme Amidala"
      ]
     },
     "execution_count": 8,
     "metadata": {},
     "output_type": "execute_result"
    }
   ],
   "source": [
    "pd.read_sql(\"SELECT * FROM surgeons LIMIT 1;\", engine)"
   ]
  },
  {
   "cell_type": "markdown",
   "id": "c93de1be",
   "metadata": {},
   "source": [
    "### 2. Extracting Patient Responses with Health Scores\n",
    "\n",
    "SQL queries are saved in the `/sql` folder and loaded in this notebook.\n",
    "\n",
    "This query joins:\n",
    "- `answers` → raw responses\n",
    "- `answer_options` → to get `central_estimate` scores\n",
    "- `questionnaires` → to filter only `Hip` operations and distinguish `pre/post`\n",
    "\n",
    "The result is one row per question answered, with the corresponding health score component.\n"
   ]
  },
  {
   "cell_type": "code",
   "execution_count": 9,
   "id": "5b4cc37c",
   "metadata": {},
   "outputs": [
    {
     "data": {
      "text/html": [
       "<div>\n",
       "<style scoped>\n",
       "    .dataframe tbody tr th:only-of-type {\n",
       "        vertical-align: middle;\n",
       "    }\n",
       "\n",
       "    .dataframe tbody tr th {\n",
       "        vertical-align: top;\n",
       "    }\n",
       "\n",
       "    .dataframe thead th {\n",
       "        text-align: right;\n",
       "    }\n",
       "</style>\n",
       "<table border=\"1\" class=\"dataframe\">\n",
       "  <thead>\n",
       "    <tr style=\"text-align: right;\">\n",
       "      <th></th>\n",
       "      <th>patient_id</th>\n",
       "      <th>questionnaire_id</th>\n",
       "      <th>questionnaire_type</th>\n",
       "      <th>treatment</th>\n",
       "      <th>central_estimate</th>\n",
       "    </tr>\n",
       "  </thead>\n",
       "  <tbody>\n",
       "    <tr>\n",
       "      <th>0</th>\n",
       "      <td>4413</td>\n",
       "      <td>2</td>\n",
       "      <td>post</td>\n",
       "      <td>Hip</td>\n",
       "      <td>0.274</td>\n",
       "    </tr>\n",
       "    <tr>\n",
       "      <th>1</th>\n",
       "      <td>3640</td>\n",
       "      <td>1</td>\n",
       "      <td>pre</td>\n",
       "      <td>Hip</td>\n",
       "      <td>0.274</td>\n",
       "    </tr>\n",
       "    <tr>\n",
       "      <th>2</th>\n",
       "      <td>4745</td>\n",
       "      <td>1</td>\n",
       "      <td>pre</td>\n",
       "      <td>Hip</td>\n",
       "      <td>0.274</td>\n",
       "    </tr>\n",
       "  </tbody>\n",
       "</table>\n",
       "</div>"
      ],
      "text/plain": [
       "   patient_id  questionnaire_id questionnaire_type treatment  central_estimate\n",
       "0        4413                 2               post       Hip             0.274\n",
       "1        3640                 1                pre       Hip             0.274\n",
       "2        4745                 1                pre       Hip             0.274"
      ]
     },
     "execution_count": 9,
     "metadata": {},
     "output_type": "execute_result"
    }
   ],
   "source": [
    "with open(\"../sql/responses_and_scores.sql\", \"r\") as file:\n",
    "    query = file.read()\n",
    "\n",
    "patient_scores_df = pd.read_sql(query, engine)\n",
    "patient_scores_df.head(3)"
   ]
  },
  {
   "cell_type": "markdown",
   "id": "9320999d",
   "metadata": {},
   "source": [
    "### 3. Pre - Post scores per patient\n",
    "\n",
    "- Sum central estimates by patient + questionnaire type (pre/post).\n",
    "- Convert to health score.\n",
    "- Pivot so each patient has pre/post on one row.\n",
    "- Add improvement column (post - pre)."
   ]
  },
  {
   "cell_type": "code",
   "execution_count": 10,
   "id": "fc32f0d6",
   "metadata": {},
   "outputs": [
    {
     "data": {
      "text/html": [
       "<div>\n",
       "<style scoped>\n",
       "    .dataframe tbody tr th:only-of-type {\n",
       "        vertical-align: middle;\n",
       "    }\n",
       "\n",
       "    .dataframe tbody tr th {\n",
       "        vertical-align: top;\n",
       "    }\n",
       "\n",
       "    .dataframe thead th {\n",
       "        text-align: right;\n",
       "    }\n",
       "</style>\n",
       "<table border=\"1\" class=\"dataframe\">\n",
       "  <thead>\n",
       "    <tr style=\"text-align: right;\">\n",
       "      <th>questionnaire_type</th>\n",
       "      <th>patient_id</th>\n",
       "      <th>post</th>\n",
       "      <th>pre</th>\n",
       "      <th>improvement</th>\n",
       "    </tr>\n",
       "  </thead>\n",
       "  <tbody>\n",
       "    <tr>\n",
       "      <th>0</th>\n",
       "      <td>1</td>\n",
       "      <td>0.840</td>\n",
       "      <td>0.613</td>\n",
       "      <td>0.227</td>\n",
       "    </tr>\n",
       "    <tr>\n",
       "      <th>1</th>\n",
       "      <td>4</td>\n",
       "      <td>NaN</td>\n",
       "      <td>0.615</td>\n",
       "      <td>NaN</td>\n",
       "    </tr>\n",
       "    <tr>\n",
       "      <th>2</th>\n",
       "      <td>5</td>\n",
       "      <td>0.838</td>\n",
       "      <td>0.691</td>\n",
       "      <td>0.147</td>\n",
       "    </tr>\n",
       "  </tbody>\n",
       "</table>\n",
       "</div>"
      ],
      "text/plain": [
       "questionnaire_type  patient_id   post    pre  improvement\n",
       "0                            1  0.840  0.613        0.227\n",
       "1                            4    NaN  0.615          NaN\n",
       "2                            5  0.838  0.691        0.147"
      ]
     },
     "execution_count": 10,
     "metadata": {},
     "output_type": "execute_result"
    }
   ],
   "source": [
    "score_sums = (\n",
    "    patient_scores_df\n",
    "    .groupby(['patient_id', 'questionnaire_type'], as_index=False)['central_estimate']\n",
    "    .sum()\n",
    ")\n",
    "\n",
    "score_sums['health_score'] = 1 - score_sums['central_estimate']\n",
    "\n",
    "score_pivot = (\n",
    "    score_sums\n",
    "    .pivot(index='patient_id', columns='questionnaire_type', values='health_score')\n",
    "    .reset_index()\n",
    ")\n",
    "\n",
    "score_pivot['improvement'] = score_pivot['post'] - score_pivot['pre']\n",
    "score_pivot.head(3)\n"
   ]
  },
  {
   "cell_type": "markdown",
   "id": "aac60a0c",
   "metadata": {},
   "source": [
    "### 4. Map patients to surgeons\n",
    "\n",
    "We load a SQL query that joins `patients` and `surgeons` to associate each patient with their corresponding surgeon.\n"
   ]
  },
  {
   "cell_type": "code",
   "execution_count": 11,
   "id": "59e2ce3f",
   "metadata": {},
   "outputs": [
    {
     "data": {
      "text/html": [
       "<div>\n",
       "<style scoped>\n",
       "    .dataframe tbody tr th:only-of-type {\n",
       "        vertical-align: middle;\n",
       "    }\n",
       "\n",
       "    .dataframe tbody tr th {\n",
       "        vertical-align: top;\n",
       "    }\n",
       "\n",
       "    .dataframe thead th {\n",
       "        text-align: right;\n",
       "    }\n",
       "</style>\n",
       "<table border=\"1\" class=\"dataframe\">\n",
       "  <thead>\n",
       "    <tr style=\"text-align: right;\">\n",
       "      <th></th>\n",
       "      <th>patient_id</th>\n",
       "      <th>surgeon_id</th>\n",
       "      <th>surgeon_name</th>\n",
       "    </tr>\n",
       "  </thead>\n",
       "  <tbody>\n",
       "    <tr>\n",
       "      <th>0</th>\n",
       "      <td>24588</td>\n",
       "      <td>1</td>\n",
       "      <td>Padme Amidala</td>\n",
       "    </tr>\n",
       "    <tr>\n",
       "      <th>1</th>\n",
       "      <td>5091</td>\n",
       "      <td>1</td>\n",
       "      <td>Padme Amidala</td>\n",
       "    </tr>\n",
       "    <tr>\n",
       "      <th>2</th>\n",
       "      <td>7846</td>\n",
       "      <td>1</td>\n",
       "      <td>Padme Amidala</td>\n",
       "    </tr>\n",
       "  </tbody>\n",
       "</table>\n",
       "</div>"
      ],
      "text/plain": [
       "   patient_id  surgeon_id   surgeon_name\n",
       "0       24588           1  Padme Amidala\n",
       "1        5091           1  Padme Amidala\n",
       "2        7846           1  Padme Amidala"
      ]
     },
     "execution_count": 11,
     "metadata": {},
     "output_type": "execute_result"
    }
   ],
   "source": [
    "with open(\"../sql/patient_surgeon_mapping.sql\", \"r\") as file:\n",
    "    mapping_query = file.read()\n",
    "\n",
    "surgeon_map_df = pd.read_sql(mapping_query, engine)\n",
    "surgeon_map_df.head(3)"
   ]
  },
  {
   "cell_type": "code",
   "execution_count": 12,
   "id": "9eb6c6d6",
   "metadata": {},
   "outputs": [
    {
     "data": {
      "text/html": [
       "<div>\n",
       "<style scoped>\n",
       "    .dataframe tbody tr th:only-of-type {\n",
       "        vertical-align: middle;\n",
       "    }\n",
       "\n",
       "    .dataframe tbody tr th {\n",
       "        vertical-align: top;\n",
       "    }\n",
       "\n",
       "    .dataframe thead th {\n",
       "        text-align: right;\n",
       "    }\n",
       "</style>\n",
       "<table border=\"1\" class=\"dataframe\">\n",
       "  <thead>\n",
       "    <tr style=\"text-align: right;\">\n",
       "      <th></th>\n",
       "      <th>patient_id</th>\n",
       "      <th>post</th>\n",
       "      <th>pre</th>\n",
       "      <th>improvement</th>\n",
       "      <th>surgeon_id</th>\n",
       "      <th>surgeon_name</th>\n",
       "    </tr>\n",
       "  </thead>\n",
       "  <tbody>\n",
       "    <tr>\n",
       "      <th>0</th>\n",
       "      <td>1</td>\n",
       "      <td>0.840</td>\n",
       "      <td>0.613</td>\n",
       "      <td>0.227</td>\n",
       "      <td>3</td>\n",
       "      <td>Han Solo</td>\n",
       "    </tr>\n",
       "    <tr>\n",
       "      <th>1</th>\n",
       "      <td>4</td>\n",
       "      <td>NaN</td>\n",
       "      <td>0.615</td>\n",
       "      <td>NaN</td>\n",
       "      <td>10</td>\n",
       "      <td>Obi-Wan Kenobi</td>\n",
       "    </tr>\n",
       "    <tr>\n",
       "      <th>2</th>\n",
       "      <td>5</td>\n",
       "      <td>0.838</td>\n",
       "      <td>0.691</td>\n",
       "      <td>0.147</td>\n",
       "      <td>9</td>\n",
       "      <td>Luke Skywalker</td>\n",
       "    </tr>\n",
       "  </tbody>\n",
       "</table>\n",
       "</div>"
      ],
      "text/plain": [
       "   patient_id   post    pre  improvement  surgeon_id    surgeon_name\n",
       "0           1  0.840  0.613        0.227           3        Han Solo\n",
       "1           4    NaN  0.615          NaN          10  Obi-Wan Kenobi\n",
       "2           5  0.838  0.691        0.147           9  Luke Skywalker"
      ]
     },
     "execution_count": 12,
     "metadata": {},
     "output_type": "execute_result"
    }
   ],
   "source": [
    "full_df = pd.merge(score_pivot, surgeon_map_df, on=\"patient_id\", how=\"inner\")\n",
    "full_df.head(3)"
   ]
  },
  {
   "cell_type": "markdown",
   "id": "f9ccdbb3",
   "metadata": {},
   "source": [
    "### 5. Average Improvement per surgeon\n",
    "\n",
    "Using the combined data (patient scores + surgeon names), we calculate the average improvement per surgeon."
   ]
  },
  {
   "cell_type": "code",
   "execution_count": 13,
   "id": "7ad13c82",
   "metadata": {},
   "outputs": [
    {
     "data": {
      "text/html": [
       "<div>\n",
       "<style scoped>\n",
       "    .dataframe tbody tr th:only-of-type {\n",
       "        vertical-align: middle;\n",
       "    }\n",
       "\n",
       "    .dataframe tbody tr th {\n",
       "        vertical-align: top;\n",
       "    }\n",
       "\n",
       "    .dataframe thead th {\n",
       "        text-align: right;\n",
       "    }\n",
       "</style>\n",
       "<table border=\"1\" class=\"dataframe\">\n",
       "  <thead>\n",
       "    <tr style=\"text-align: right;\">\n",
       "      <th></th>\n",
       "      <th>surgeon_name</th>\n",
       "      <th>improvement</th>\n",
       "    </tr>\n",
       "  </thead>\n",
       "  <tbody>\n",
       "    <tr>\n",
       "      <th>2</th>\n",
       "      <td>Han Solo</td>\n",
       "      <td>0.130558</td>\n",
       "    </tr>\n",
       "    <tr>\n",
       "      <th>0</th>\n",
       "      <td>Darth Maul</td>\n",
       "      <td>0.127205</td>\n",
       "    </tr>\n",
       "    <tr>\n",
       "      <th>3</th>\n",
       "      <td>Jar Jar Binks</td>\n",
       "      <td>0.125226</td>\n",
       "    </tr>\n",
       "    <tr>\n",
       "      <th>7</th>\n",
       "      <td>Padme Amidala</td>\n",
       "      <td>0.124562</td>\n",
       "    </tr>\n",
       "    <tr>\n",
       "      <th>6</th>\n",
       "      <td>Obi-Wan Kenobi</td>\n",
       "      <td>0.121275</td>\n",
       "    </tr>\n",
       "    <tr>\n",
       "      <th>5</th>\n",
       "      <td>Mon Mothma</td>\n",
       "      <td>0.115825</td>\n",
       "    </tr>\n",
       "    <tr>\n",
       "      <th>1</th>\n",
       "      <td>Darth Vader</td>\n",
       "      <td>0.114354</td>\n",
       "    </tr>\n",
       "    <tr>\n",
       "      <th>8</th>\n",
       "      <td>Princess Leia</td>\n",
       "      <td>0.110110</td>\n",
       "    </tr>\n",
       "    <tr>\n",
       "      <th>4</th>\n",
       "      <td>Luke Skywalker</td>\n",
       "      <td>0.108987</td>\n",
       "    </tr>\n",
       "    <tr>\n",
       "      <th>9</th>\n",
       "      <td>Yoda</td>\n",
       "      <td>0.102634</td>\n",
       "    </tr>\n",
       "  </tbody>\n",
       "</table>\n",
       "</div>"
      ],
      "text/plain": [
       "     surgeon_name  improvement\n",
       "2        Han Solo     0.130558\n",
       "0      Darth Maul     0.127205\n",
       "3   Jar Jar Binks     0.125226\n",
       "7   Padme Amidala     0.124562\n",
       "6  Obi-Wan Kenobi     0.121275\n",
       "5      Mon Mothma     0.115825\n",
       "1     Darth Vader     0.114354\n",
       "8   Princess Leia     0.110110\n",
       "4  Luke Skywalker     0.108987\n",
       "9            Yoda     0.102634"
      ]
     },
     "execution_count": 13,
     "metadata": {},
     "output_type": "execute_result"
    }
   ],
   "source": [
    "surgeon_ranking = (\n",
    "    full_df\n",
    "    .dropna(subset=[\"pre\", \"post\"])\n",
    "    .groupby(\"surgeon_name\", as_index=False)[\"improvement\"]\n",
    "    .mean()\n",
    "    .sort_values(by=\"improvement\", ascending=False)\n",
    ")\n",
    "\n",
    "surgeon_ranking.head(10)"
   ]
  },
  {
   "cell_type": "markdown",
   "id": "e1995cee",
   "metadata": {},
   "source": [
    "### 6. Most and least skillful surgeons\n",
    "\n",
    "Based on the average improvement in patient health scores (calculated from EQ-5D-5L questionnaires pre- and post-operation), we find the following:\n",
    "\n",
    "- **Most skillful surgeon**: `Han Solo`  \n",
    "  - Average improvement: `0.131`\n",
    "\n",
    "- **Least skillful surgeon**: `Yoda`  \n",
    "  - Average improvement: `0.103`\n",
    "\n",
    "These results are based solely on hip replacement treatments and improvement in patient-reported quality of life.\n"
   ]
  },
  {
   "cell_type": "code",
   "execution_count": 14,
   "id": "dc70c6cd",
   "metadata": {},
   "outputs": [
    {
     "name": "stdout",
     "output_type": "stream",
     "text": [
      "Most skillful: Han Solo (0.131)\n",
      "Least skillful: Yoda (0.103)\n"
     ]
    }
   ],
   "source": [
    "# top and bottom surgeon from the ranked list\n",
    "top_surgeon = surgeon_ranking.iloc[0]\n",
    "bottom_surgeon = surgeon_ranking.iloc[-1]\n",
    "\n",
    "print(f\"Most skillful: {top_surgeon['surgeon_name']} ({top_surgeon['improvement']:.3f})\")\n",
    "print(f\"Least skillful: {bottom_surgeon['surgeon_name']} ({bottom_surgeon['improvement']:.3f})\")"
   ]
  },
  {
   "cell_type": "code",
   "execution_count": 15,
   "id": "083cdda8",
   "metadata": {},
   "outputs": [
    {
     "data": {
      "image/png": "[encoded data removed]",
      "text/plain": [
       "<Figure size 1000x500 with 1 Axes>"
      ]
     },
     "metadata": {},
     "output_type": "display_data"
    }
   ],
   "source": [
    "import matplotlib.pyplot as plt\n",
    "\n",
    "top_10 = surgeon_ranking.head(10)\n",
    "plt.figure(figsize=(10, 5))\n",
    "plt.barh(top_10['surgeon_name'], top_10['improvement'])\n",
    "plt.xlabel(\"Average Improvement Score\")\n",
    "plt.title(\"Top 10 Surgeons – Hip Replacement\")\n",
    "plt.gca().invert_yaxis()\n",
    "plt.tight_layout()\n",
    "plt.show()"
   ]
  },
  {
   "cell_type": "markdown",
   "id": "dc6e5655",
   "metadata": {},
   "source": [
    "### Output files\n",
    "\n",
    "- Final surgeon ranking as CSV.\n",
    "- Notebook as HTML."
   ]
  },
  {
   "cell_type": "code",
   "execution_count": 16,
   "id": "b207e3f4",
   "metadata": {},
   "outputs": [],
   "source": [
    "surgeon_ranking.to_csv(\"../output/surgeon_ranking.csv\", index=False)"
   ]
  }
 ],
 "metadata": {
  "kernelspec": {
   "display_name": "gemma_ae_test",
   "language": "python",
   "name": "python3"
  },
  "language_info": {
   "codemirror_mode": {
    "name": "ipython",
    "version": 3
   },
   "file_extension": ".py",
   "mimetype": "text/x-python",
   "name": "python",
   "nbconvert_exporter": "python",
   "pygments_lexer": "ipython3",
   "version": "3.10.18"
  }
 },
 "nbformat": 4,
 "nbformat_minor": 5
}
