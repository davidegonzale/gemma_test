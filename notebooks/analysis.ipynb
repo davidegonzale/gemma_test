{
 "cells": [
  {
   "cell_type": "markdown",
   "id": "149f04bd",
   "metadata": {},
   "source": [
    "# Gemma Analytics Hiring Test – Surgeon Skill Ranking\n",
    "\n",
    "Author: David Gonzalez  \n",
    "Date: 11.07.2025\n",
    "\n",
    "This notebook analyzes the performance of surgeons conducting hip replacement operations based on EQ-5D-5L questionnaire results."
   ]
  },
  {
   "cell_type": "code",
   "execution_count": 1,
   "id": "6f4ca334",
   "metadata": {},
   "outputs": [],
   "source": [
    "\n",
    "from sqlalchemy import create_engine\n",
    "import pandas as pd\n",
    "\n",
    "# DB Credentials\n",
    "db_user = \"c50c162d93e1b19027aafe01f4915371e\"\n",
    "db_pass = \"f1c1e1f88935a9c21b05e200cc938c0c\"\n",
    "db_host = \"candidate-testing.cowkpei4bgel.eu-central-1.rds.amazonaws.com\"\n",
    "db_port = \"5432\"\n",
    "db_name = \"hiring_test\"\n",
    "\n",
    "# Create SQLAlchemy engine\n",
    "engine = create_engine(f\"postgresql+psycopg2://{db_user}:{db_pass}@{db_host}:{db_port}/{db_name}\")\n"
   ]
  },
  {
   "cell_type": "markdown",
   "id": "5ae610f7",
   "metadata": {},
   "source": [
    "### 1. Explore Available Tables"
   ]
  },
  {
   "cell_type": "code",
   "execution_count": null,
   "id": "0bd0c00c",
   "metadata": {},
   "outputs": [],
   "source": [
    "# Look for relevant tables within list of tables\n",
    "tables_df = pd.read_sql(\"\"\"\n",
    "    SELECT table_name\n",
    "    FROM information_schema.tables\n",
    "    ORDER BY table_name;\n",
    "\"\"\", engine)\n",
    "\n",
    "with pd.option_context('display.max_rows', None):\n",
    "    display(tables_df)"
   ]
  },
  {
   "cell_type": "markdown",
   "id": "f469e38d",
   "metadata": {},
   "source": [
    "### High priority tables found\n",
    " + patients\n",
    " + surgeons\n",
    " + answer_options\n",
    " + answers\n",
    " + questionnaires\n",
    " + questions"
   ]
  },
  {
   "cell_type": "code",
   "execution_count": 21,
   "id": "347587a9",
   "metadata": {},
   "outputs": [
    {
     "data": {
      "text/html": [
       "<div>\n",
       "<style scoped>\n",
       "    .dataframe tbody tr th:only-of-type {\n",
       "        vertical-align: middle;\n",
       "    }\n",
       "\n",
       "    .dataframe tbody tr th {\n",
       "        vertical-align: top;\n",
       "    }\n",
       "\n",
       "    .dataframe thead th {\n",
       "        text-align: right;\n",
       "    }\n",
       "</style>\n",
       "<table border=\"1\" class=\"dataframe\">\n",
       "  <thead>\n",
       "    <tr style=\"text-align: right;\">\n",
       "      <th></th>\n",
       "      <th>id</th>\n",
       "      <th>question_id</th>\n",
       "      <th>patient_id</th>\n",
       "      <th>questionnaire_id</th>\n",
       "      <th>answer</th>\n",
       "    </tr>\n",
       "  </thead>\n",
       "  <tbody>\n",
       "    <tr>\n",
       "      <th>0</th>\n",
       "      <td>1</td>\n",
       "      <td>1</td>\n",
       "      <td>1</td>\n",
       "      <td>1</td>\n",
       "      <td>I have no problems in walking around</td>\n",
       "    </tr>\n",
       "  </tbody>\n",
       "</table>\n",
       "</div>"
      ],
      "text/plain": [
       "   id  question_id  patient_id  questionnaire_id  \\\n",
       "0   1            1           1                 1   \n",
       "\n",
       "                                 answer  \n",
       "0  I have no problems in walking around  "
      ]
     },
     "execution_count": 21,
     "metadata": {},
     "output_type": "execute_result"
    }
   ],
   "source": [
    "# Preview tables\n",
    "\n",
    "pd.read_sql(\"SELECT * FROM answers LIMIT 1;\", engine)"
   ]
  },
  {
   "cell_type": "code",
   "execution_count": 22,
   "id": "f665ce55",
   "metadata": {},
   "outputs": [
    {
     "data": {
      "text/html": [
       "<div>\n",
       "<style scoped>\n",
       "    .dataframe tbody tr th:only-of-type {\n",
       "        vertical-align: middle;\n",
       "    }\n",
       "\n",
       "    .dataframe tbody tr th {\n",
       "        vertical-align: top;\n",
       "    }\n",
       "\n",
       "    .dataframe thead th {\n",
       "        text-align: right;\n",
       "    }\n",
       "</style>\n",
       "<table border=\"1\" class=\"dataframe\">\n",
       "  <thead>\n",
       "    <tr style=\"text-align: right;\">\n",
       "      <th></th>\n",
       "      <th>question_id</th>\n",
       "      <th>answer</th>\n",
       "      <th>severity_code</th>\n",
       "      <th>central_estimate</th>\n",
       "    </tr>\n",
       "  </thead>\n",
       "  <tbody>\n",
       "    <tr>\n",
       "      <th>0</th>\n",
       "      <td>1</td>\n",
       "      <td>I have no problems in walking around</td>\n",
       "      <td>1</td>\n",
       "      <td>0.0</td>\n",
       "    </tr>\n",
       "  </tbody>\n",
       "</table>\n",
       "</div>"
      ],
      "text/plain": [
       "   question_id                                answer  severity_code  \\\n",
       "0            1  I have no problems in walking around              1   \n",
       "\n",
       "   central_estimate  \n",
       "0               0.0  "
      ]
     },
     "execution_count": 22,
     "metadata": {},
     "output_type": "execute_result"
    }
   ],
   "source": [
    "pd.read_sql(\"SELECT * FROM answer_options LIMIT 1;\", engine)"
   ]
  },
  {
   "cell_type": "code",
   "execution_count": 23,
   "id": "b0d5d921",
   "metadata": {},
   "outputs": [
    {
     "data": {
      "text/html": [
       "<div>\n",
       "<style scoped>\n",
       "    .dataframe tbody tr th:only-of-type {\n",
       "        vertical-align: middle;\n",
       "    }\n",
       "\n",
       "    .dataframe tbody tr th {\n",
       "        vertical-align: top;\n",
       "    }\n",
       "\n",
       "    .dataframe thead th {\n",
       "        text-align: right;\n",
       "    }\n",
       "</style>\n",
       "<table border=\"1\" class=\"dataframe\">\n",
       "  <thead>\n",
       "    <tr style=\"text-align: right;\">\n",
       "      <th></th>\n",
       "      <th>id</th>\n",
       "      <th>type</th>\n",
       "      <th>treatment</th>\n",
       "      <th>questions</th>\n",
       "    </tr>\n",
       "  </thead>\n",
       "  <tbody>\n",
       "    <tr>\n",
       "      <th>0</th>\n",
       "      <td>1</td>\n",
       "      <td>pre</td>\n",
       "      <td>Hip</td>\n",
       "      <td>[1, 2, 3, 4, 5]</td>\n",
       "    </tr>\n",
       "  </tbody>\n",
       "</table>\n",
       "</div>"
      ],
      "text/plain": [
       "   id type treatment        questions\n",
       "0   1  pre       Hip  [1, 2, 3, 4, 5]"
      ]
     },
     "execution_count": 23,
     "metadata": {},
     "output_type": "execute_result"
    }
   ],
   "source": [
    "pd.read_sql(\"SELECT * FROM questionnaires LIMIT 1;\", engine)"
   ]
  },
  {
   "cell_type": "code",
   "execution_count": 24,
   "id": "ecfb4863",
   "metadata": {},
   "outputs": [
    {
     "data": {
      "text/html": [
       "<div>\n",
       "<style scoped>\n",
       "    .dataframe tbody tr th:only-of-type {\n",
       "        vertical-align: middle;\n",
       "    }\n",
       "\n",
       "    .dataframe tbody tr th {\n",
       "        vertical-align: top;\n",
       "    }\n",
       "\n",
       "    .dataframe thead th {\n",
       "        text-align: right;\n",
       "    }\n",
       "</style>\n",
       "<table border=\"1\" class=\"dataframe\">\n",
       "  <thead>\n",
       "    <tr style=\"text-align: right;\">\n",
       "      <th></th>\n",
       "      <th>id</th>\n",
       "      <th>title</th>\n",
       "      <th>description</th>\n",
       "    </tr>\n",
       "  </thead>\n",
       "  <tbody>\n",
       "    <tr>\n",
       "      <th>0</th>\n",
       "      <td>1</td>\n",
       "      <td>Mobility</td>\n",
       "      <td>Please indicate what applies</td>\n",
       "    </tr>\n",
       "  </tbody>\n",
       "</table>\n",
       "</div>"
      ],
      "text/plain": [
       "   id     title                   description\n",
       "0   1  Mobility  Please indicate what applies"
      ]
     },
     "execution_count": 24,
     "metadata": {},
     "output_type": "execute_result"
    }
   ],
   "source": [
    "pd.read_sql(\"SELECT * FROM questions LIMIT 1;\", engine)"
   ]
  },
  {
   "cell_type": "code",
   "execution_count": 25,
   "id": "0d40fae2",
   "metadata": {},
   "outputs": [
    {
     "data": {
      "text/html": [
       "<div>\n",
       "<style scoped>\n",
       "    .dataframe tbody tr th:only-of-type {\n",
       "        vertical-align: middle;\n",
       "    }\n",
       "\n",
       "    .dataframe tbody tr th {\n",
       "        vertical-align: top;\n",
       "    }\n",
       "\n",
       "    .dataframe thead th {\n",
       "        text-align: right;\n",
       "    }\n",
       "</style>\n",
       "<table border=\"1\" class=\"dataframe\">\n",
       "  <thead>\n",
       "    <tr style=\"text-align: right;\">\n",
       "      <th></th>\n",
       "      <th>id</th>\n",
       "      <th>gender</th>\n",
       "      <th>surgeon_id</th>\n",
       "    </tr>\n",
       "  </thead>\n",
       "  <tbody>\n",
       "    <tr>\n",
       "      <th>0</th>\n",
       "      <td>1</td>\n",
       "      <td>Male</td>\n",
       "      <td>3</td>\n",
       "    </tr>\n",
       "  </tbody>\n",
       "</table>\n",
       "</div>"
      ],
      "text/plain": [
       "   id gender  surgeon_id\n",
       "0   1   Male           3"
      ]
     },
     "execution_count": 25,
     "metadata": {},
     "output_type": "execute_result"
    }
   ],
   "source": [
    "pd.read_sql(\"SELECT * FROM patients LIMIT 1;\", engine)"
   ]
  },
  {
   "cell_type": "code",
   "execution_count": 26,
   "id": "63740c34",
   "metadata": {},
   "outputs": [
    {
     "data": {
      "text/html": [
       "<div>\n",
       "<style scoped>\n",
       "    .dataframe tbody tr th:only-of-type {\n",
       "        vertical-align: middle;\n",
       "    }\n",
       "\n",
       "    .dataframe tbody tr th {\n",
       "        vertical-align: top;\n",
       "    }\n",
       "\n",
       "    .dataframe thead th {\n",
       "        text-align: right;\n",
       "    }\n",
       "</style>\n",
       "<table border=\"1\" class=\"dataframe\">\n",
       "  <thead>\n",
       "    <tr style=\"text-align: right;\">\n",
       "      <th></th>\n",
       "      <th>id</th>\n",
       "      <th>name</th>\n",
       "    </tr>\n",
       "  </thead>\n",
       "  <tbody>\n",
       "    <tr>\n",
       "      <th>0</th>\n",
       "      <td>1</td>\n",
       "      <td>Padme Amidala</td>\n",
       "    </tr>\n",
       "  </tbody>\n",
       "</table>\n",
       "</div>"
      ],
      "text/plain": [
       "   id           name\n",
       "0   1  Padme Amidala"
      ]
     },
     "execution_count": 26,
     "metadata": {},
     "output_type": "execute_result"
    }
   ],
   "source": [
    "pd.read_sql(\"SELECT * FROM surgeons LIMIT 1;\", engine)"
   ]
  },
  {
   "cell_type": "markdown",
   "id": "c93de1be",
   "metadata": {},
   "source": [
    "### 2. Extracting Patient Responses with Health Scores\n",
    "\n",
    "SQL queries are saved in the `/sql` folder and loaded as needed.\n",
    "\n",
    "This query joins:\n",
    "- `answers` → raw responses\n",
    "- `answer_options` → to get `central_estimate` scores\n",
    "- `questionnaires` → to filter only `Hip` operations and distinguish `pre/post`\n",
    "\n",
    "The result is one row per question answered, with the corresponding health score component.\n"
   ]
  },
  {
   "cell_type": "code",
   "execution_count": 32,
   "id": "5b4cc37c",
   "metadata": {},
   "outputs": [
    {
     "data": {
      "text/html": [
       "<div>\n",
       "<style scoped>\n",
       "    .dataframe tbody tr th:only-of-type {\n",
       "        vertical-align: middle;\n",
       "    }\n",
       "\n",
       "    .dataframe tbody tr th {\n",
       "        vertical-align: top;\n",
       "    }\n",
       "\n",
       "    .dataframe thead th {\n",
       "        text-align: right;\n",
       "    }\n",
       "</style>\n",
       "<table border=\"1\" class=\"dataframe\">\n",
       "  <thead>\n",
       "    <tr style=\"text-align: right;\">\n",
       "      <th></th>\n",
       "      <th>patient_id</th>\n",
       "      <th>questionnaire_id</th>\n",
       "      <th>questionnaire_type</th>\n",
       "      <th>treatment</th>\n",
       "      <th>central_estimate</th>\n",
       "    </tr>\n",
       "  </thead>\n",
       "  <tbody>\n",
       "    <tr>\n",
       "      <th>0</th>\n",
       "      <td>6163</td>\n",
       "      <td>1</td>\n",
       "      <td>pre</td>\n",
       "      <td>Hip</td>\n",
       "      <td>0.274</td>\n",
       "    </tr>\n",
       "    <tr>\n",
       "      <th>1</th>\n",
       "      <td>7862</td>\n",
       "      <td>1</td>\n",
       "      <td>pre</td>\n",
       "      <td>Hip</td>\n",
       "      <td>0.274</td>\n",
       "    </tr>\n",
       "    <tr>\n",
       "      <th>2</th>\n",
       "      <td>4802</td>\n",
       "      <td>2</td>\n",
       "      <td>post</td>\n",
       "      <td>Hip</td>\n",
       "      <td>0.274</td>\n",
       "    </tr>\n",
       "    <tr>\n",
       "      <th>3</th>\n",
       "      <td>9581</td>\n",
       "      <td>1</td>\n",
       "      <td>pre</td>\n",
       "      <td>Hip</td>\n",
       "      <td>0.274</td>\n",
       "    </tr>\n",
       "    <tr>\n",
       "      <th>4</th>\n",
       "      <td>9582</td>\n",
       "      <td>1</td>\n",
       "      <td>pre</td>\n",
       "      <td>Hip</td>\n",
       "      <td>0.274</td>\n",
       "    </tr>\n",
       "  </tbody>\n",
       "</table>\n",
       "</div>"
      ],
      "text/plain": [
       "   patient_id  questionnaire_id questionnaire_type treatment  central_estimate\n",
       "0        6163                 1                pre       Hip             0.274\n",
       "1        7862                 1                pre       Hip             0.274\n",
       "2        4802                 2               post       Hip             0.274\n",
       "3        9581                 1                pre       Hip             0.274\n",
       "4        9582                 1                pre       Hip             0.274"
      ]
     },
     "execution_count": 32,
     "metadata": {},
     "output_type": "execute_result"
    }
   ],
   "source": [
    "with open(\"../sql/responses_and_scores.sql\", \"r\") as file:\n",
    "    query = file.read()\n",
    "\n",
    "patient_scores_df = pd.read_sql(query, engine)\n",
    "patient_scores_df.head()"
   ]
  },
  {
   "cell_type": "markdown",
   "id": "9320999d",
   "metadata": {},
   "source": [
    "### 3. Pre - Post scores per patient\n",
    "\n",
    "- Sum central estimates by patient + questionnaire type (pre/post).\n",
    "- Convert to health score.\n",
    "- Pivot so each patient has pre/post on one row.\n",
    "- Add improvement column (post - pre)."
   ]
  },
  {
   "cell_type": "code",
   "execution_count": null,
   "id": "fc32f0d6",
   "metadata": {},
   "outputs": [
    {
     "data": {
      "text/html": [
       "<div>\n",
       "<style scoped>\n",
       "    .dataframe tbody tr th:only-of-type {\n",
       "        vertical-align: middle;\n",
       "    }\n",
       "\n",
       "    .dataframe tbody tr th {\n",
       "        vertical-align: top;\n",
       "    }\n",
       "\n",
       "    .dataframe thead th {\n",
       "        text-align: right;\n",
       "    }\n",
       "</style>\n",
       "<table border=\"1\" class=\"dataframe\">\n",
       "  <thead>\n",
       "    <tr style=\"text-align: right;\">\n",
       "      <th>questionnaire_type</th>\n",
       "      <th>patient_id</th>\n",
       "      <th>post</th>\n",
       "      <th>pre</th>\n",
       "      <th>improvement</th>\n",
       "    </tr>\n",
       "  </thead>\n",
       "  <tbody>\n",
       "    <tr>\n",
       "      <th>0</th>\n",
       "      <td>1</td>\n",
       "      <td>0.840</td>\n",
       "      <td>0.613</td>\n",
       "      <td>0.227</td>\n",
       "    </tr>\n",
       "    <tr>\n",
       "      <th>1</th>\n",
       "      <td>4</td>\n",
       "      <td>NaN</td>\n",
       "      <td>0.615</td>\n",
       "      <td>NaN</td>\n",
       "    </tr>\n",
       "    <tr>\n",
       "      <th>2</th>\n",
       "      <td>5</td>\n",
       "      <td>0.838</td>\n",
       "      <td>0.691</td>\n",
       "      <td>0.147</td>\n",
       "    </tr>\n",
       "    <tr>\n",
       "      <th>3</th>\n",
       "      <td>6</td>\n",
       "      <td>0.501</td>\n",
       "      <td>0.090</td>\n",
       "      <td>0.411</td>\n",
       "    </tr>\n",
       "    <tr>\n",
       "      <th>4</th>\n",
       "      <td>7</td>\n",
       "      <td>0.443</td>\n",
       "      <td>0.445</td>\n",
       "      <td>-0.002</td>\n",
       "    </tr>\n",
       "  </tbody>\n",
       "</table>\n",
       "</div>"
      ],
      "text/plain": [
       "questionnaire_type  patient_id   post    pre  improvement\n",
       "0                            1  0.840  0.613        0.227\n",
       "1                            4    NaN  0.615          NaN\n",
       "2                            5  0.838  0.691        0.147\n",
       "3                            6  0.501  0.090        0.411\n",
       "4                            7  0.443  0.445       -0.002"
      ]
     },
     "execution_count": 34,
     "metadata": {},
     "output_type": "execute_result"
    }
   ],
   "source": [
    "score_sums = (\n",
    "    patient_scores_df\n",
    "    .groupby(['patient_id', 'questionnaire_type'], as_index=False)['central_estimate']\n",
    "    .sum()\n",
    ")\n",
    "\n",
    "score_sums['health_score'] = 1 - score_sums['central_estimate']\n",
    "\n",
    "score_pivot = (\n",
    "    score_sums\n",
    "    .pivot(index='patient_id', columns='questionnaire_type', values='health_score')\n",
    "    .reset_index()\n",
    ")\n",
    "\n",
    "score_pivot['improvement'] = score_pivot['post'] - score_pivot['pre']\n",
    "score_pivot.head()\n"
   ]
  },
  {
   "cell_type": "code",
   "execution_count": null,
   "id": "59e2ce3f",
   "metadata": {},
   "outputs": [],
   "source": []
  }
 ],
 "metadata": {
  "kernelspec": {
   "display_name": "gemma_test",
   "language": "python",
   "name": "python3"
  },
  "language_info": {
   "codemirror_mode": {
    "name": "ipython",
    "version": 3
   },
   "file_extension": ".py",
   "mimetype": "text/x-python",
   "name": "python",
   "nbconvert_exporter": "python",
   "pygments_lexer": "ipython3",
   "version": "3.10.18"
  }
 },
 "nbformat": 4,
 "nbformat_minor": 5
}
