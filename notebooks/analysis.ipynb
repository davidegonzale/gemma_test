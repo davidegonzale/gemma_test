{
 "cells": [
  {
   "cell_type": "markdown",
   "id": "149f04bd",
   "metadata": {},
   "source": [
    "# Gemma Analytics Hiring Test – Surgeon Skill Ranking\n",
    "\n",
    "Author: David Gonzalez  \n",
    "Date: 11.07.2025\n",
    "\n",
    "This notebook analyzes the performance of surgeons conducting hip replacement operations based on EQ-5D-5L questionnaire results."
   ]
  },
  {
   "cell_type": "code",
   "execution_count": null,
   "id": "6f4ca334",
   "metadata": {},
   "outputs": [],
   "source": [
    "from dotenv import load_dotenv\n",
    "import os\n",
    "\n",
    "load_dotenv()\n",
    "from sqlalchemy import create_engine\n",
    "import pandas as pd\n",
    "\n",
    "# DB Credentials\n",
    "db_user = os.getenv(\"DB_USER\")\n",
    "db_pass = os.getenv(\"DB_PASS\")\n",
    "db_host = os.getenv(\"DB_HOST\")\n",
    "db_port = os.getenv(\"DB_PORT\")\n",
    "db_name = os.getenv(\"DB_NAME\")\n",
    "\n",
    "# Create SQLAlchemy engine\n",
    "engine = create_engine(f\"postgresql+psycopg2://{db_user}:{db_pass}@{db_host}:{db_port}/{db_name}\")\n"
   ]
  },
  {
   "cell_type": "markdown",
   "id": "5ae610f7",
   "metadata": {},
   "source": [
    "### 1. Explore Available Tables\n",
    "\n",
    "Explore available tables inside DB to find out which ones might be relevant to us.\n",
    "\n",
    "High priority tables found:\n",
    "\n",
    " + patients\n",
    " + surgeons\n",
    " + answer_options\n",
    " + answers\n",
    " + questionnaires\n",
    " + questions\n",
    "\n",
    " Explore high priority tables to see their column names and how their data types look like. "
   ]
  },
  {
   "cell_type": "code",
   "execution_count": null,
   "id": "0bd0c00c",
   "metadata": {},
   "outputs": [],
   "source": [
    "# Look for relevant tables within list of tables\n",
    "tables_df = pd.read_sql(\"\"\"\n",
    "    SELECT table_name\n",
    "    FROM information_schema.tables\n",
    "    ORDER BY table_name;\n",
    "\"\"\", engine)\n",
    "\n",
    "with pd.option_context('display.max_rows', None):\n",
    "    display(tables_df)"
   ]
  },
  {
   "cell_type": "code",
   "execution_count": null,
   "id": "347587a9",
   "metadata": {},
   "outputs": [],
   "source": [
    "# Preview tables\n",
    "\n",
    "pd.read_sql(\"SELECT * FROM answers LIMIT 1;\", engine)"
   ]
  },
  {
   "cell_type": "code",
   "execution_count": null,
   "id": "f665ce55",
   "metadata": {},
   "outputs": [],
   "source": [
    "pd.read_sql(\"SELECT * FROM answer_options LIMIT 1;\", engine)"
   ]
  },
  {
   "cell_type": "code",
   "execution_count": null,
   "id": "b0d5d921",
   "metadata": {},
   "outputs": [],
   "source": [
    "pd.read_sql(\"SELECT * FROM questionnaires LIMIT 1;\", engine)"
   ]
  },
  {
   "cell_type": "code",
   "execution_count": null,
   "id": "ecfb4863",
   "metadata": {},
   "outputs": [],
   "source": [
    "pd.read_sql(\"SELECT * FROM questions LIMIT 1;\", engine)"
   ]
  },
  {
   "cell_type": "code",
   "execution_count": null,
   "id": "0d40fae2",
   "metadata": {},
   "outputs": [],
   "source": [
    "pd.read_sql(\"SELECT * FROM patients LIMIT 1;\", engine)"
   ]
  },
  {
   "cell_type": "code",
   "execution_count": null,
   "id": "63740c34",
   "metadata": {},
   "outputs": [],
   "source": [
    "pd.read_sql(\"SELECT * FROM surgeons LIMIT 1;\", engine)"
   ]
  },
  {
   "cell_type": "markdown",
   "id": "c93de1be",
   "metadata": {},
   "source": [
    "### 2. Extracting Patient Responses with Health Scores\n",
    "\n",
    "SQL queries are saved in the `/sql` folder and loaded in this notebook.\n",
    "\n",
    "This query joins:\n",
    "- `answers` → raw responses\n",
    "- `answer_options` → to get `central_estimate` scores\n",
    "- `questionnaires` → to filter only `Hip` operations and distinguish `pre/post`\n",
    "\n",
    "The result is one row per question answered, with the corresponding health score component.\n"
   ]
  },
  {
   "cell_type": "code",
   "execution_count": null,
   "id": "5b4cc37c",
   "metadata": {},
   "outputs": [],
   "source": [
    "with open(\"../sql/responses_and_scores.sql\", \"r\") as file:\n",
    "    query = file.read()\n",
    "\n",
    "patient_scores_df = pd.read_sql(query, engine)\n",
    "patient_scores_df.head(3)"
   ]
  },
  {
   "cell_type": "markdown",
   "id": "9320999d",
   "metadata": {},
   "source": [
    "### 3. Pre - Post scores per patient\n",
    "\n",
    "- Sum central estimates by patient + questionnaire type (pre/post).\n",
    "- Convert to health score.\n",
    "- Pivot so each patient has pre/post on one row.\n",
    "- Add improvement column (post - pre)."
   ]
  },
  {
   "cell_type": "code",
   "execution_count": null,
   "id": "fc32f0d6",
   "metadata": {},
   "outputs": [],
   "source": [
    "score_sums = (\n",
    "    patient_scores_df\n",
    "    .groupby(['patient_id', 'questionnaire_type'], as_index=False)['central_estimate']\n",
    "    .sum()\n",
    ")\n",
    "\n",
    "score_sums['health_score'] = 1 - score_sums['central_estimate']\n",
    "\n",
    "score_pivot = (\n",
    "    score_sums\n",
    "    .pivot(index='patient_id', columns='questionnaire_type', values='health_score')\n",
    "    .reset_index()\n",
    ")\n",
    "\n",
    "score_pivot['improvement'] = score_pivot['post'] - score_pivot['pre']\n",
    "score_pivot.head(3)\n"
   ]
  },
  {
   "cell_type": "markdown",
   "id": "aac60a0c",
   "metadata": {},
   "source": [
    "### 4. Map patients to surgeons\n",
    "\n",
    "We load a SQL query that joins `patients` and `surgeons` to associate each patient with their corresponding surgeon.\n"
   ]
  },
  {
   "cell_type": "code",
   "execution_count": null,
   "id": "59e2ce3f",
   "metadata": {},
   "outputs": [],
   "source": [
    "with open(\"../sql/patient_surgeon_mapping.sql\", \"r\") as file:\n",
    "    mapping_query = file.read()\n",
    "\n",
    "surgeon_map_df = pd.read_sql(mapping_query, engine)\n",
    "surgeon_map_df.head(3)"
   ]
  },
  {
   "cell_type": "code",
   "execution_count": null,
   "id": "9eb6c6d6",
   "metadata": {},
   "outputs": [],
   "source": [
    "full_df = pd.merge(score_pivot, surgeon_map_df, on=\"patient_id\", how=\"inner\")\n",
    "full_df.head(3)"
   ]
  },
  {
   "cell_type": "markdown",
   "id": "f9ccdbb3",
   "metadata": {},
   "source": [
    "### 5. Average Improvement per surgeon\n",
    "\n",
    "Using the combined data (patient scores + surgeon names), we calculate the average improvement per surgeon."
   ]
  },
  {
   "cell_type": "code",
   "execution_count": null,
   "id": "7ad13c82",
   "metadata": {},
   "outputs": [],
   "source": [
    "surgeon_ranking = (\n",
    "    full_df\n",
    "    .dropna(subset=[\"pre\", \"post\"])\n",
    "    .groupby(\"surgeon_name\", as_index=False)[\"improvement\"]\n",
    "    .mean()\n",
    "    .sort_values(by=\"improvement\", ascending=False)\n",
    ")\n",
    "\n",
    "surgeon_ranking.head(10)"
   ]
  },
  {
   "cell_type": "markdown",
   "id": "e1995cee",
   "metadata": {},
   "source": [
    "### 6. Most and least skillful surgeons\n",
    "\n",
    "Based on the average improvement in patient health scores (calculated from EQ-5D-5L questionnaires pre- and post-operation), we find the following:\n",
    "\n",
    "- **Most skillful surgeon**: `Han Solo`  \n",
    "  - Average improvement: `0.131`\n",
    "\n",
    "- **Least skillful surgeon**: `Yoda`  \n",
    "  - Average improvement: `0.103`\n",
    "\n",
    "These results are based solely on hip replacement treatments and improvement in patient-reported quality of life.\n"
   ]
  },
  {
   "cell_type": "code",
   "execution_count": null,
   "id": "dc70c6cd",
   "metadata": {},
   "outputs": [],
   "source": [
    "# top and bottom surgeon from the ranked list\n",
    "top_surgeon = surgeon_ranking.iloc[0]\n",
    "bottom_surgeon = surgeon_ranking.iloc[-1]\n",
    "\n",
    "print(f\"Most skillful: {top_surgeon['surgeon_name']} ({top_surgeon['improvement']:.3f})\")\n",
    "print(f\"Least skillful: {bottom_surgeon['surgeon_name']} ({bottom_surgeon['improvement']:.3f})\")"
   ]
  },
  {
   "cell_type": "code",
   "execution_count": null,
   "id": "083cdda8",
   "metadata": {},
   "outputs": [],
   "source": [
    "import matplotlib.pyplot as plt\n",
    "\n",
    "top_10 = surgeon_ranking.head(10)\n",
    "plt.figure(figsize=(10, 5))\n",
    "plt.barh(top_10['surgeon_name'], top_10['improvement'])\n",
    "plt.xlabel(\"Average Improvement Score\")\n",
    "plt.title(\"Top 10 Surgeons – Hip Replacement\")\n",
    "plt.gca().invert_yaxis()\n",
    "plt.tight_layout()\n",
    "plt.show()"
   ]
  },
  {
   "cell_type": "markdown",
   "id": "dc6e5655",
   "metadata": {},
   "source": [
    "### Output files\n",
    "\n",
    "- Final surgeon ranking as CSV.\n",
    "- Notebook as HTML."
   ]
  },
  {
   "cell_type": "code",
   "execution_count": null,
   "id": "b207e3f4",
   "metadata": {},
   "outputs": [],
   "source": [
    "surgeon_ranking.to_csv(\"../output/surgeon_ranking.csv\", index=False)"
   ]
  }
 ],
 "metadata": {
  "kernelspec": {
   "display_name": "gemma_ae_test",
   "language": "python",
   "name": "python3"
  },
  "language_info": {
   "codemirror_mode": {
    "name": "ipython",
    "version": 3
   },
   "file_extension": ".py",
   "mimetype": "text/x-python",
   "name": "python",
   "nbconvert_exporter": "python",
   "pygments_lexer": "ipython3",
   "version": "3.10.18"
  }
 },
 "nbformat": 4,
 "nbformat_minor": 5
}
